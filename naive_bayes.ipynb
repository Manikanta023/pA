{
 "cells": [
  {
   "cell_type": "code",
   "execution_count": 9,
   "id": "b7f26c33",
   "metadata": {},
   "outputs": [],
   "source": [
    "import pandas as pd\n",
    "import numpy as np\n",
    "from sklearn import preprocessing  \n",
    "from sklearn.model_selection import train_test_split\n",
    "from sklearn.naive_bayes import MultinomialNB"
   ]
  },
  {
   "cell_type": "code",
   "execution_count": 10,
   "id": "a43131b9",
   "metadata": {},
   "outputs": [],
   "source": [
    "from sklearn import preprocessing"
   ]
  },
  {
   "cell_type": "code",
   "execution_count": 11,
   "id": "96d700bf",
   "metadata": {},
   "outputs": [],
   "source": [
    "df=pd.read_csv('p1.csv')"
   ]
  },
  {
   "cell_type": "code",
   "execution_count": 14,
   "id": "426ca07e",
   "metadata": {},
   "outputs": [],
   "source": [
    "le=preprocessing.LabelEncoder()"
   ]
  },
  {
   "cell_type": "code",
   "execution_count": 19,
   "id": "214f0276",
   "metadata": {},
   "outputs": [],
   "source": [
    "pc_encoder=le.fit_transform(df['pc'].values)\n",
    "wbc_encoder=le.fit_transform(df['wbc'].values)\n",
    "mc_encoder=le.fit_transform(df['mc'].values)\n",
    "ast_encoder=le.fit_transform(df['ast'].values)\n",
    "bc_encoder=le.fit_transform(df['bc'].values)\n",
    "ldh_encoder=le.fit_transform(df['ldh'].values)\n",
    "y=le.fit_transform(df['diagnosis'])\n"
   ]
  },
  {
   "cell_type": "code",
   "execution_count": 21,
   "id": "9452ec52",
   "metadata": {},
   "outputs": [],
   "source": [
    "x=np.array(list(zip(pc_encoder,wbc_encoder,mc_encoder,ast_encoder,bc_encoder,ldh_encoder)))"
   ]
  },
  {
   "cell_type": "code",
   "execution_count": 44,
   "id": "067dfa80",
   "metadata": {},
   "outputs": [],
   "source": [
    "x_train,x_test,y_train,y_test=train_test_split(x,y)"
   ]
  },
  {
   "cell_type": "code",
   "execution_count": 46,
   "id": "6e423a2f",
   "metadata": {},
   "outputs": [],
   "source": [
    "clf=MultinomialNB()\n",
    "clf.fit(x_train,y_train)\n",
    "y_pred=clf.predict(x_test)\n",
    "from sklearn.metrics import accuracy_score,classification_report"
   ]
  },
  {
   "cell_type": "code",
   "execution_count": 47,
   "id": "8c181182",
   "metadata": {},
   "outputs": [
    {
     "name": "stdout",
     "output_type": "stream",
     "text": [
      "Accuracy Score: 0.5714285714285714\n"
     ]
    }
   ],
   "source": [
    "print(\"Accuracy Score:\",accuracy_score(y_test,y_pred))"
   ]
  },
  {
   "cell_type": "code",
   "execution_count": 48,
   "id": "a93d9b24",
   "metadata": {},
   "outputs": [
    {
     "name": "stdout",
     "output_type": "stream",
     "text": [
      "classification report:               precision    recall  f1-score   support\n",
      "\n",
      "           0       0.00      0.00      0.00         1\n",
      "           1       0.80      0.67      0.73         6\n",
      "\n",
      "    accuracy                           0.57         7\n",
      "   macro avg       0.40      0.33      0.36         7\n",
      "weighted avg       0.69      0.57      0.62         7\n",
      "\n"
     ]
    }
   ],
   "source": [
    "print(\"classification report:\",classification_report(y_test,y_pred))"
   ]
  },
  {
   "cell_type": "code",
   "execution_count": null,
   "id": "aead875c",
   "metadata": {},
   "outputs": [],
   "source": []
  }
 ],
 "metadata": {
  "kernelspec": {
   "display_name": "Python 3 (ipykernel)",
   "language": "python",
   "name": "python3"
  },
  "language_info": {
   "codemirror_mode": {
    "name": "ipython",
    "version": 3
   },
   "file_extension": ".py",
   "mimetype": "text/x-python",
   "name": "python",
   "nbconvert_exporter": "python",
   "pygments_lexer": "ipython3",
   "version": "3.9.13"
  }
 },
 "nbformat": 4,
 "nbformat_minor": 5
}
